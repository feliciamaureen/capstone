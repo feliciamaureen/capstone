{
 "cells": [
  {
   "cell_type": "code",
   "execution_count": 1,
   "metadata": {},
   "outputs": [],
   "source": [
    "from bigrams import *\n",
    "from trigrams import *\n",
    "from words import *"
   ]
  },
  {
   "cell_type": "code",
   "execution_count": 2,
   "metadata": {},
   "outputs": [
    {
     "data": {
      "text/html": [
       "<div>\n",
       "<style scoped>\n",
       "    .dataframe tbody tr th:only-of-type {\n",
       "        vertical-align: middle;\n",
       "    }\n",
       "\n",
       "    .dataframe tbody tr th {\n",
       "        vertical-align: top;\n",
       "    }\n",
       "\n",
       "    .dataframe thead th {\n",
       "        text-align: right;\n",
       "    }\n",
       "</style>\n",
       "<table border=\"1\" class=\"dataframe\">\n",
       "  <thead>\n",
       "    <tr style=\"text-align: right;\">\n",
       "      <th></th>\n",
       "      <th>EV</th>\n",
       "      <th>60s</th>\n",
       "      <th>70s</th>\n",
       "      <th>80s</th>\n",
       "      <th>90s</th>\n",
       "      <th>00s</th>\n",
       "      <th>10s</th>\n",
       "      <th>decades</th>\n",
       "    </tr>\n",
       "  </thead>\n",
       "  <tbody>\n",
       "    <tr>\n",
       "      <th>a</th>\n",
       "      <td>629</td>\n",
       "      <td>3777</td>\n",
       "      <td>611</td>\n",
       "      <td>1513</td>\n",
       "      <td>529</td>\n",
       "      <td>1532</td>\n",
       "      <td>731</td>\n",
       "      <td>8693</td>\n",
       "    </tr>\n",
       "    <tr>\n",
       "      <th>aaa</th>\n",
       "      <td>1</td>\n",
       "      <td>0</td>\n",
       "      <td>0</td>\n",
       "      <td>0</td>\n",
       "      <td>0</td>\n",
       "      <td>0</td>\n",
       "      <td>1</td>\n",
       "      <td>1</td>\n",
       "    </tr>\n",
       "    <tr>\n",
       "      <th>aaaa</th>\n",
       "      <td>0</td>\n",
       "      <td>0</td>\n",
       "      <td>2</td>\n",
       "      <td>0</td>\n",
       "      <td>0</td>\n",
       "      <td>0</td>\n",
       "      <td>0</td>\n",
       "      <td>2</td>\n",
       "    </tr>\n",
       "    <tr>\n",
       "      <th>aaaah</th>\n",
       "      <td>0</td>\n",
       "      <td>0</td>\n",
       "      <td>12</td>\n",
       "      <td>0</td>\n",
       "      <td>0</td>\n",
       "      <td>0</td>\n",
       "      <td>0</td>\n",
       "      <td>12</td>\n",
       "    </tr>\n",
       "    <tr>\n",
       "      <th>aaaani</th>\n",
       "      <td>1</td>\n",
       "      <td>0</td>\n",
       "      <td>0</td>\n",
       "      <td>0</td>\n",
       "      <td>0</td>\n",
       "      <td>0</td>\n",
       "      <td>0</td>\n",
       "      <td>0</td>\n",
       "    </tr>\n",
       "  </tbody>\n",
       "</table>\n",
       "</div>"
      ],
      "text/plain": [
       "         EV   60s  70s   80s  90s   00s  10s  decades\n",
       "a       629  3777  611  1513  529  1532  731     8693\n",
       "aaa       1     0    0     0    0     0    1        1\n",
       "aaaa      0     0    2     0    0     0    0        2\n",
       "aaaah     0     0   12     0    0     0    0       12\n",
       "aaaani    1     0    0     0    0     0    0        0"
      ]
     },
     "execution_count": 2,
     "metadata": {},
     "output_type": "execute_result"
    }
   ],
   "source": [
    "trigrams = getTGFreqDF()\n",
    "bigrams = getBGFreqDF()\n",
    "words = getWordsFreqDF()\n",
    "words.head()"
   ]
  },
  {
   "cell_type": "code",
   "execution_count": 7,
   "metadata": {},
   "outputs": [],
   "source": [
    "values = ['EV', 'decades', '60s', '70s', '80s', '90s', '00s', '10s']"
   ]
  },
  {
   "cell_type": "code",
   "execution_count": 6,
   "metadata": {},
   "outputs": [
    {
     "name": "stdout",
     "output_type": "stream",
     "text": [
      "['i' 'you' 'the' 'and' 'to' 'a' 'my' 'me' 'is' '’' 'it' 'in' 'of' 'not'\n",
      " 'we']\n",
      "['the' 'i' 'and' 'you' 'to' 'a' 'is' 'in' 'it' 'not' 'of' 'me' 'that' 'my'\n",
      " 'he']\n",
      "['the' 'and' 'to' 'i' 'a' 'is' 'you' 'in' 'he' 'of' 'not' 'that' 'it' 'on'\n",
      " 'for']\n",
      "['i' 'you' 'the' 'a' 'to' 'and' 'is' 'me' 'my' 'it' 'not' 'in' 'love' 'do'\n",
      " 'that']\n",
      "['the' 'i' 'you' 'to' 'and' 'a' 'of' 'is' 'in' 'it' 'that' 'not' 'me' 'he'\n",
      " 'my']\n",
      "['i' 'you' 'the' 'to' 'me' 'not' 'is' 'it' 'and' 'na' 'a' 'my' 'that' 'do'\n",
      " 'will']\n",
      "['the' 'i' 'you' 'a' 'and' 'it' 'to' 'is' 'of' 'not' 'in' 'me' 'that' 'my'\n",
      " 'on']\n",
      "['i' 'you' 'the' 'me' 'it' 'a' 'not' 'and' 'my' 'to' 'in' 'am' 'is' 'do'\n",
      " 'we']\n"
     ]
    }
   ],
   "source": [
    "#top 15 words by index\n",
    "for i in range(len(values)):\n",
    "    print(getTop15Words(values[i]))"
   ]
  },
  {
   "cell_type": "code",
   "execution_count": 8,
   "metadata": {},
   "outputs": [
    {
     "name": "stdout",
     "output_type": "stream",
     "text": [
      "[('i', 'am') ('you', 'are') ('do', 'not') ('i', '’') ('’', 's')\n",
      " ('it', 'is') ('in', 'the') ('’', 't') ('i', 'can') ('and', 'i')\n",
      " ('’', 'm') ('i', 'will') ('we', 'are') ('gon', 'na') ('don', '’')]\n",
      "[('i', 'am') ('do', 'not') ('in', 'the') ('it', 'is') ('of', 'the')\n",
      " ('you', 'are') ('and', 'i') ('to', 'the') ('on', 'the') ('i', 'will')\n",
      " ('can', 'not') ('i', 'can') ('there', 'is') ('is', 'a') ('i', 'do')]\n",
      "[('in', 'the') ('do', 'not') ('i', 'am') ('and', 'i') ('on', 'the')\n",
      " ('to', 'the') ('of', 'the') ('it', 'is') ('he', 'is') ('there', 'is')\n",
      " ('and', 'the') ('is', 'a') ('i', 'will') ('you', 'are') ('that', 'is')]\n",
      "[('i', 'am') ('it', 'is') ('do', 'not') ('in', 'the') ('you', 'are')\n",
      " ('la', 'lie') ('lie', 'la') ('lovely', 'day') ('day', 'lovely')\n",
      " ('and', 'i') ('oh', 'oh') ('that', 'i') ('lo', 'lo') ('am', 'a')\n",
      " ('on', 'the')]\n",
      "[('of', 'the') ('i', 'am') ('it', 'is') ('in', 'the') ('do', 'not')\n",
      " ('you', 'are') ('na', 'na') ('to', 'be') ('to', 'the') ('i', 'have')\n",
      " ('on', 'the') ('that', 'is') ('and', 'i') ('is', 'the') ('can', 'not')]\n",
      "[('i', 'am') ('do', 'not') ('na', 'na') ('it', 'is') ('you', 'are')\n",
      " ('i', 'will') ('can', 'not') ('wan', 'na') ('gon', 'na') ('i', 'can')\n",
      " ('yeah', 'yeah') ('and', 'i') ('if', 'you') ('i', 'do') ('i', 'have')]\n",
      "[('i', 'am') ('it', 'is') ('do', 'not') ('of', 'the') ('’', 's')\n",
      " ('in', 'the') ('you', 'are') ('can', 'not') ('to', 'the') ('oh', 'oh')\n",
      " ('i', 'can') ('yeah', 'yeah') ('gon', 'na') ('and', 'i') ('i', 'will')]\n",
      "[('i', 'am') ('do', 'not') ('in', 'the') ('you', 'are') ('it', 'is')\n",
      " ('oh', 'oh') ('i', 'will') ('we', 'are') ('and', 'i') ('in', 'my')\n",
      " ('wan', 'na') ('i', 'got') ('i', 'have') ('but', 'i') ('can', 'not')]\n"
     ]
    }
   ],
   "source": [
    "#top 15 bigrams by index\n",
    "for i in range(len(values)):\n",
    "    print(getTop15Bigrams(values[i]))"
   ]
  },
  {
   "cell_type": "code",
   "execution_count": 9,
   "metadata": {},
   "outputs": [
    {
     "name": "stdout",
     "output_type": "stream",
     "text": [
      "[('i', '’', 'm') ('don', '’', 't') ('it', '’', 's') ('i', 'do', 'not')\n",
      " ('you', 'are', 'my') ('you', '’', 're') ('i', 'can', 'not')\n",
      " ('there', '’', 's') ('can', '’', 't') ('i', '’', 'll') ('i', 'am', 'not')\n",
      " ('i', 'wan', 'na') ('let', '’', 's') ('i', 'am', 'the')\n",
      " ('in', 'your', 'eyes')]\n",
      "[('i', 'do', 'not') ('na', 'na', 'na') ('i', 'can', 'not')\n",
      " ('oh', 'oh', 'oh') ('do', 'not', 'know') ('i', 'am', 'a')\n",
      " ('yeah', 'yeah', 'yeah') ('you', 'do', 'not') ('i', 'will', 'be')\n",
      " ('do', 'not', 'you') ('and', 'i', 'am') ('it', 'is', 'a')\n",
      " ('there', 'is', 'a') ('there', 'is', 'no') ('you', 'can', 'not')]\n",
      "[('i', 'do', 'not') ('there', 'is', 'a') ('do', 'not', 'know')\n",
      " ('la', 'la', 'la') ('i', 'can', 'not') ('and', 'i', 'am')\n",
      " ('you', 'do', 'not') ('i', 'have', 'to') ('i', 'want', 'to')\n",
      " ('it', 'is', 'a') ('there', 'is', 'no') ('to', 'go', 'to')\n",
      " ('and', 'there', 'is') ('go', 'to', 'the') ('do', 'not', 'want')]\n",
      "[('lie', 'la', 'lie') ('lovely', 'day', 'lovely') ('day', 'lovely', 'day')\n",
      " ('i', 'am', 'a') ('la', 'lie', 'la') ('do', 'do', 'do')\n",
      " ('lo', 'lo', 'lo') ('oh', 'oh', 'oh') ('la', 'lie', 'lie')\n",
      " ('lie', 'lie', 'la') ('let', 'it', 'be') ('you', 'are', 'the')\n",
      " ('more', 'than', 'a') ('no', 'no', 'no') ('i', 'know', 'i')]\n",
      "[('na', 'na', 'na') ('i', 'do', 'not') ('it', 'is', 'a')\n",
      " ('that', 'is', 'the') ('ever', 'do', 'you') ('how', 'ever', 'do')\n",
      " ('me', 'how', 'ever') ('i', 'wan', 'na') ('do', 'not', 'know')\n",
      " ('is', 'the', 'look') ('to', 'your', 'heart') ('away', 'run', 'away')\n",
      " ('listen', 'to', 'your') ('all', 'night', 'all') ('got', 'ta', 'be')]\n",
      "[('na', 'na', 'na') ('yeah', 'yeah', 'yeah') ('i', 'do', 'not')\n",
      " ('i', 'can', 'not') ('i', 'will', 'be') ('say', 'my', 'name')\n",
      " ('is', 'my', 'life') ('it', 'is', 'my') ('do', 'not', 'you')\n",
      " ('not', 'let', 'go') ('i', 'wan', 'na') ('gon', 'na', 'be')\n",
      " ('you', 'can', 'not') ('am', 'gon', 'na') ('i', 'am', 'gon')]\n",
      "[('oh', 'oh', 'oh') ('i', 'do', 'not') ('yeah', 'yeah', 'yeah')\n",
      " ('i', 'can', 'not') ('of', 'the', 'species') ('i', 'am', 'not')\n",
      " ('what', 'i', 'am') ('not', 'stop', 'the') ('be', 'gone', 'with')\n",
      " ('go', 'head', 'be') ('gone', 'with', 'it') ('head', 'be', 'gone')\n",
      " ('i', 'as', 'not') ('i', '’', 'm') ('do', 'not', 'know')]\n",
      "[('oh', 'oh', 'oh') ('i', 'do', 'not') ('not', 'give', 'up')\n",
      " ('i', 'am', 'in') ('no', 'no', 'no') ('do', 'not', 'give')\n",
      " ('i', 'have', 'been') ('am', 'in', 'love') ('i', 'will', 'be')\n",
      " ('let', 'me', 'love') ('you', 'do', 'not') ('i', 'like', 'it')\n",
      " ('i', 'will', 'not') ('thank', 'you', 'next') ('do', 'not', 'wan')]\n"
     ]
    }
   ],
   "source": [
    "#top 15 trigrams by index\n",
    "for i in range(len(values)):\n",
    "    print(getTop15Trigrams(values[i]))"
   ]
  },
  {
   "cell_type": "code",
   "execution_count": null,
   "metadata": {},
   "outputs": [],
   "source": []
  }
 ],
 "metadata": {
  "kernelspec": {
   "display_name": "Python 3",
   "language": "python",
   "name": "python3"
  },
  "language_info": {
   "codemirror_mode": {
    "name": "ipython",
    "version": 3
   },
   "file_extension": ".py",
   "mimetype": "text/x-python",
   "name": "python",
   "nbconvert_exporter": "python",
   "pygments_lexer": "ipython3",
   "version": "3.7.3"
  }
 },
 "nbformat": 4,
 "nbformat_minor": 2
}
